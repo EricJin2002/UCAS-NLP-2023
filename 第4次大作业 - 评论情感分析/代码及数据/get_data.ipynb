{
 "cells": [
  {
   "cell_type": "code",
   "execution_count": null,
   "metadata": {},
   "outputs": [],
   "source": [
    "from data_crawler import *"
   ]
  },
  {
   "cell_type": "code",
   "execution_count": null,
   "metadata": {},
   "outputs": [],
   "source": [
    "if not os.path.exists(\"data\"):\n",
    "    os.mkdir(\"data\")\n",
    "if not os.path.exists(\"data/subject_id_list.json\"):\n",
    "    subject_id_list = get_subject_id_list()\n",
    "    print(len(subject_id_list))\n",
    "    print(subject_id_list)\n",
    "    with open(\"data/subject_id_list.json\", \"w\", encoding=\"utf-8\") as f:\n",
    "        json.dump(subject_id_list, f, ensure_ascii=False, indent=4)\n",
    "else:\n",
    "    with open(\"data/subject_id_list.json\", \"r\", encoding=\"utf-8\") as f:\n",
    "        subject_id_list = json.load(f)"
   ]
  },
  {
   "cell_type": "code",
   "execution_count": null,
   "metadata": {},
   "outputs": [],
   "source": [
    "# infinite loop\n",
    "# need to be manually stopped\n",
    "while True:\n",
    "    subject_id = random.choice(subject_id_list)\n",
    "# for subject_id in subject_id_list:\n",
    "    print(\"subject_id:\", subject_id)\n",
    "    comment = subject_to_comment(subject_id)\n",
    "    with open(\"data/{}.json\".format(subject_id), \"w\", encoding=\"utf-8\") as f:\n",
    "        json.dump(comment, f, ensure_ascii=False, indent=4)"
   ]
  }
 ],
 "metadata": {
  "kernelspec": {
   "display_name": "AI2THOR",
   "language": "python",
   "name": "python3"
  },
  "language_info": {
   "codemirror_mode": {
    "name": "ipython",
    "version": 3
   },
   "file_extension": ".py",
   "mimetype": "text/x-python",
   "name": "python",
   "nbconvert_exporter": "python",
   "pygments_lexer": "ipython3",
   "version": "3.9.7"
  },
  "orig_nbformat": 4
 },
 "nbformat": 4,
 "nbformat_minor": 2
}
