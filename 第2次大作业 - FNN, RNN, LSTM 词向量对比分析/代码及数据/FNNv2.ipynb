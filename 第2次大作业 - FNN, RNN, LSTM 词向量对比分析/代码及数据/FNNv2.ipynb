{
 "cells": [
  {
   "cell_type": "code",
   "execution_count": 11,
   "metadata": {},
   "outputs": [],
   "source": [
    "import torch\n",
    "import torch.nn as nn\n",
    "import torch.utils.data as Data\n",
    "import numpy as np\n",
    "import random\n",
    "from collections import Counter\n",
    "import os\n",
    "import matplotlib.pyplot as plt\n",
    "import importlib\n",
    "\n",
    "# custom import\n",
    "import dataset\n",
    "import NNv2 as NN"
   ]
  },
  {
   "cell_type": "code",
   "execution_count": 12,
   "metadata": {},
   "outputs": [
    {
     "name": "stdout",
     "output_type": "stream",
     "text": [
      "device: cuda\n"
     ]
    }
   ],
   "source": [
    "device = torch.device(\"cuda\" if torch.cuda.is_available() else \"cpu\")\n",
    "print(\"device: \" + str(device))"
   ]
  },
  {
   "cell_type": "code",
   "execution_count": 13,
   "metadata": {},
   "outputs": [],
   "source": [
    "# parameters\n",
    "vocab_size = 1024\n",
    "embedding_dim = 16\n",
    "n = 9\n",
    "input_size = embedding_dim * (n-1)\n",
    "hidden_size = 64\n",
    "\n",
    "learning_rate = 1e-3\n",
    "batch_size = 512"
   ]
  },
  {
   "cell_type": "code",
   "execution_count": 14,
   "metadata": {},
   "outputs": [
    {
     "name": "stdout",
     "output_type": "stream",
     "text": [
      "FNN(\n",
      "  (embedding): Embedding(1024, 16)\n",
      "  (norm): LayerNorm((16,), eps=1e-05, elementwise_affine=False)\n",
      "  (flatten): Flatten(start_dim=1, end_dim=-1)\n",
      "  (linear_relu_stack): Sequential(\n",
      "    (0): Linear(in_features=128, out_features=64, bias=True)\n",
      "    (1): ReLU()\n",
      "    (2): Linear(in_features=64, out_features=16, bias=True)\n",
      "    (3): ReLU()\n",
      "  )\n",
      ")\n"
     ]
    }
   ],
   "source": [
    "# model\n",
    "importlib.reload(NN)\n",
    "\n",
    "model = NN.FNN(vocab_size, input_size, embedding_dim, hidden_size).to(device)\n",
    "print(model)"
   ]
  },
  {
   "cell_type": "code",
   "execution_count": 15,
   "metadata": {},
   "outputs": [
    {
     "name": "stdout",
     "output_type": "stream",
     "text": [
      "top words: {'，/w': 1, '的/u': 2, '。/w': 3, '、/w': 4, '在/p': 5, '和/c': 6, '了/u': 7, '是/v': 8, '“/w': 9, '”/w': 10, '一/m': 11, '有/v': 12, '不/d': 13, '（/w': 14, '）/w': 15, '对/p': 16, '：/w': 17, '中/f': 18, '这/r': 19, '上/f': 20, '要/v': 21, '他/r': 22, '也/d': 23, '等/u': 24, '人/n': 25, '经济/n': 26, '；/w': 27, '个/q': 28, '说/v': 29, '为/p': 30, '年/q': 31, '中国/ns': 32, '到/v': 33, '企业/n': 34, '为/v': 35, '就/d': 36, '地/u': 37, '记者/n': 38, '新/a': 39, '工作/vn': 40, '大/a': 41, '从/p': 42, '我们/r': 43, '两/m': 44, '以/p': 45, '》/w': 46, '《/w': 47, '都/d': 48, '一个/m': 49, '我/r': 50, '１月/t': 51, '国家/n': 52, '问题/n': 53, '与/p': 54, '着/u': 55, '发展/vn': 56, '已/d': 57, '将/d': 58, '多/m': 59, '市场/n': 60, '发展/v': 61, '元/q': 62, '还/d': 63, '而/c': 64, '把/p': 65, '本报/r': 66, '能/v': 67, '后/f': 68, '人民/n': 69, '建设/vn': 70, '他们/r': 71, '并/c': 72, '向/p': 73, '使/v': 74, '进行/v': 75, '李/nr': 76, '全国/n': 77, '好/a': 78, '了/y': 79, '电/n': 80, '与/c': 81, '出/v': 82, '社会/n': 83, '但/c': 84, '我国/n': 85, '新华社/nt': 86, '时/Ng': 87, '由/p': 88, '于/p': 89, '世界/n': 90, '三/m': 91, '次/q': 92, '更/d': 93, '来/v': 94, '又/d': 95, '最/d': 96, '活动/vn': 97, '美国/ns': 98, '之/u': 99, '多/a': 100, '北京/ns': 101, '据/p': 102, '王/nr': 103, '群众/n': 104, '关系/n': 105, '重要/a': 106, '被/p': 107, '下/f': 108, '[中国/ns': 109, '地区/n': 110, '技术/n': 111, '名/q': 112, '自己/r': 113, '干部/n': 114, '副/b': 115, '部门/n': 116, '很/d': 117, '一些/m': 118, '职工/n': 119, '国际/n': 120, '政府/n': 121, '文化/n': 122, '管理/vn': 123, '同志/n': 124, '高/a': 125, '去年/t': 126, '会/v': 127, '金融/n': 128, '今天/t': 129, '提高/v': 130, '们/k': 131, '加强/v': 132, '会议/n': 133, '第一/m': 134, '位/q': 135, '其/r': 136, '方面/n': 137, '领导/n': 138, '国/n': 139, '里/f': 140, '党/n': 141, '张/nr': 142, '所/u': 143, '产品/n': 144, '人员/n': 145, '几/m': 146, '？/w': 147, '种/q': 148, '将/p': 149, '１９９７年/t': 150, '刘/nr': 151, '上/v': 152, '前/f': 153, '科技/n': 154, '社会主义/n': 155, '改革/vn': 156, '农业/n': 157, '目前/t': 158, '可以/v': 159, '讯/Ng': 160, '『/w': 161, '』/w': 162, '各/r': 163, '有关/vn': 164, '表示/v': 165, '精神/n': 166, '工程/n': 167, '历史/n': 168, '报道/v': 169, '或/c': 170, '农村/n': 171, '生活/vn': 172, '成为/v': 173, '公司/n': 174, '！/w': 175, '政策/n': 176, '它/r': 177, '解决/v': 178, '得/u': 179, '举行/v': 180, '及/c': 181, '认为/v': 182, '这些/r': 183, '起/v': 184, '条/q': 185, '达/v': 186, '实现/v': 187, '她/r': 188, '主席/n': 189, '这个/r': 190, '水平/n': 191, '农民/n': 192, '图片/n': 193, '单位/n': 194, '情况/n': 195, '陈/nr': 196, '再/d': 197, '看/v': 198, '１/m': 199, '应/v': 200, '去/v': 201, '提出/v': 202, '建立/v': 203, '人们/n': 204, '江/nr': 205, '教育/vn': 206, '取得/v': 207, '家/q': 208, '没有/v': 209, '小/a': 210, '民族/n': 211, '你/r': 212, '改革/v': 213, '走/v': 214, '项/q': 215, '合作/vn': 216, '今年/t': 217, '继续/v': 218, '必须/d': 219, '产业/n': 220, '通过/p': 221, '基础/n': 222, '给/p': 223, '生产/vn': 224, '参加/v': 225, '进一步/d': 226, '开始/v': 227, '做/v': 228, '此/r': 229, '制度/n': 230, '美元/q': 231, '近/a': 232, '同/p': 233, '可/v': 234, '政治/n': 235, '内/f': 236, '来/f': 237, '让/v': 238, '提供/v': 239, '女/b': 240, '周/nr': 241, '资金/n': 242, '坚持/v': 243, '许多/m': 244, '价格/n': 245, '项目/n': 246, '指出/v': 247, '开展/v': 248, '天/q': 249, '到/p': 250, '却/d': 251, '作用/n': 252, '结构/n': 253, '服务/vn': 254, '公司/n]nt': 255, '这种/r': 256, '送/v': 257, '艺术/n': 258, '总理/n': 259, '主要/b': 260, '体育/n': 261, '———/w': 262, '这样/r': 263, '３/m': 264, '较/d': 265, '只/d': 266, '届/q': 267, '事业/n': 268, '已经/d': 269, '思想/n': 270, '总统/n': 271, '地方/n': 272, '以及/c': 273, '泽民/nr': 274, '研究/vn': 275, '时间/n': 276, '春节/t': 277, '过/u': 278, '以来/f': 279, '其中/r': 280, '国有/vn': 281, '世纪/n': 282, '比/p': 283, '张/q': 284, '增长/v': 285, '那/r': 286, '香港/ns': 287, '银行/n': 288, '中/j': 289, '促进/v': 290, '采取/v': 291, '措施/n': 292, '环境/n': 293, '实行/v': 294, '特别/d': 295, '质量/n': 296, '成/v': 297, '条件/n': 298, '起来/v': 299, '传统/n': 300, '出现/v': 301, '不断/d': 302, '形成/v': 303, '增加/v': 304, '用/p': 305, '日本/ns': 306, '为了/p': 307, '任务/n': 308, '发生/v': 309, '四/m': 310, '二/m': 311, '具有/v': 312, '至/p': 313, '要求/v': 314, '作为/v': 315, '同时/c': 316, '批/q': 317, '岁/q': 318, '广大/b': 319, '组织/v': 320, '共/d': 321, '５/m': 322, '希望/v': 323, '以上/f': 324, '实施/v': 325, '城市/n': 326, '进/v': 327, '国务院/nt': 328, '占/v': 329, '其他/r': 330, '进入/v': 331, '信息/n': 332, '需要/v': 333, '现在/t': 334, '市/n': 335, '住房/n': 336, '第二/m': 337, '强调/v': 338, '得到/v': 339, '机构/n': 340, '和平/n': 341, '十五大/j': 342, '万/m': 343, '作出/v': 344, '[北京/ns': 345, '想/v': 346, '摄/Vg': 347, '体制/n': 348, '结合/v': 349, '美/j': 350, '无/v': 351, '积极/ad': 352, '没有/d': 353, '而且/c': 354, '建设/v': 355, '新闻/n': 356, '学习/v': 357, '这里/r': 358, '经营/vn': 359, '机关/n': 360, '正/d': 361, '保持/v': 362, '两岸/n': 363, '五/m': 364, '伊拉克/ns': 365, '达到/v': 366, '曾/d': 367, '不仅/c': 368, '目标/n': 369, '……/w': 370, '用/v': 371, '形式/n': 372, '米/q': 373, '工业/n': 374, '办/v': 375, '专家/n': 376, '书记/n': 377, '战略/n': 378, '给/v': 379, '应当/v': 380, '４/m': 381, '如/v': 382, '各级/r': 383, '国内/s': 384, '政府/n]nt': 385, '中央/n': 386, '理论/n': 387, '祖国/n': 388, '下/v': 389, '因/p': 390, '才/d': 391, '吴/nr': 392, '钱/n': 393, '生产/v': 394, '先进/a': 395, '不同/a': 396, '完成/v': 397, '决定/v': 398, '能力/n': 399, '重大/a': 400, '孩子/n': 401, '１９９６年/t': 402, '贫困/a': 403, '计划/n': 404, '根据/p': 405, '影响/vn': 406, '[国家/n': 407, '共同/d': 408, '讲/v': 409, '作/v': 410, '发现/v': 411, '发挥/v': 412, '１０/m': 413, '主任/n': 414, '研究/v': 415, '俄/j': 416, '省/n': 417, '年代/n': 418, '如果/c': 419, '各种/r': 420, '危机/n': 421, '１９９８年/t': 422, '支持/v': 423, '方式/n': 424, '基本/a': 425, '利用/v': 426, '就/p': 427, '[全国/n': 428, '吃/v': 429, '增长/vn': 430, '上海/ns': 431, '地震/n': 432, '什么/r': 433, '包括/v': 434, '看到/v': 435, '全面/ad': 436, '开/v': 437, '素质/n': 438, '—/w': 439, '十分/m': 440, '仍/d': 441, '部队/n': 442, '推进/v': 443, '[中央/n': 444, '该/r': 445, '便/d': 446, '既/c': 447, '发表/v': 448, '月/n': 449, '杨/nr': 450, '台湾/ns': 451, '余/m': 452, '关于/p': 453, '老/a': 454, '重点/n': 455, '有的/r': 456, '附/v': 457, '首/m': 458, '因此/c': 459, '２０/m': 460, '过/v': 461, '利益/n': 462, '对于/p': 463, '之间/f': 464, '作品/n': 465, '成果/n': 466, '资源/n': 467, '集团/n': 468, '各地/r': 469, '介绍/v': 470, '县/n': 471, '青年/n': 472, '中心/n': 473, '期间/f': 474, '时期/n': 475, '内容/n': 476, '灾区/n': 477, '受/v': 478, '在/d': 479, '设施/n': 480, '仅/d': 481, '受到/v': 482, '机制/n': 483, '行业/n': 484, '写/v': 485, '当/p': 486, '领域/n': 487, '成立/v': 488, '２/m': 489, '外/f': 490, '推动/v': 491, '重视/v': 492, '代表/n': 493, '如何/r': 494, '以/c': 495, '双方/n': 496, '落实/v': 497, '按照/p': 498, '帮助/v': 499, '优势/n': 500, '驻/v': 501, '会见/v': 502, '原因/n': 503, '新年/t': 504, '行为/n': 505, '原则/n': 506, '可能/v': 507, '组织/n': 508, '赵/nr': 509, '困难/an': 510, '良好/a': 511, '形势/n': 512, '家庭/n': 513, '过程/n': 514, '主要/d': 515, '件/q': 516, '要求/n': 517, '系统/n': 518, '部长/n': 519, '规模/n': 520, '获得/v': 521, '经验/n': 522, '由于/c': 523, '召开/v': 524, '日前/t': 525, '开放/v': 526, '工作/v': 527, '收入/n': 528, '人才/n': 529, '力量/n': 530, '资产/n': 531, '全部/m': 532, '学生/n': 533, '在/v': 534, '阶段/n': 535, '造成/v': 536, '这次/r': 537, '困难/a': 538, '欧洲/ns': 539, '反/v': 540, '正在/d': 541, '家/n': 542, '地/n': 543, '当地/s': 544, '交通/n': 545, '长/a': 546, '体系/n': 547, '服务/v': 548, '分别/d': 549, '又/c': 550, '制定/v': 551, '每/r': 552, '俄罗斯/ns': 553, '十/m': 554, '产生/v': 555, '开发/v': 556, '钱/nr': 557, '贯彻/v': 558, '一/d': 559, '地区/n]ns': 560, '银行/n]nt': 561, '１２月/t': 562, '全/a': 563, '成功/a': 564, '行动/vn': 565, '最近/t': 566, '扶贫/vn': 567, '意义/n': 568, '创造/v': 569, '存在/v': 570, '宣布/v': 571, '先后/d': 572, '经过/p': 573, '大家/r': 574, '严重/a': 575, '徐/nr': 576, '货币/n': 577, '英国/ns': 578, '邓小平理论/n': 579, '扩大/v': 580, '鹏/nr': 581, '积极/a': 582, '场/q': 583, '市场经济/n': 584, '调整/vn': 585, '军事/n': 586, '开发/vn': 587, '并/d': 588, '个人/n': 589, '努力/ad': 590, '加快/v': 591, '规定/n': 592, '电话/n': 593, '事/n': 594, '优秀/a': 595, '了解/v': 596, '集团/n]nt': 597, '朱/nr': 598, '现代/t': 599, '责任/n': 600, '大量/m': 601, '现代化/vn': 602, '但是/c': 603, '成绩/n': 604, '更加/d': 605, '电视/n': 606, '应该/v': 607, '人口/n': 608, '图/n': 609, '财政/n': 610, '安全/an': 611, '投资/vn': 612, '结束/v': 613, '京/j': 614, '总/b': 615, '来自/v': 616, '增强/v': 617, '管理/v': 618, '吨/q': 619, '有效/a': 620, '进程/n': 621, '革命/vn': 622, '低/a': 623, '现象/n': 624, '打/v': 625, '新春/t': 626, '接受/v': 627, '加大/v': 628, '力度/n': 629, '居民/n': 630, '晚会/n': 631, '商品/n': 632, '邓/nr': 633, '方针/n': 634, '不少/m': 635, '最后/f': 636, '抓/v': 637, '读者/n': 638, '住/v': 639, '点/q': 640, '资本/n': 641, '出口/vn': 642, '各项/r': 643, '任何/r': 644, '实际/n': 645, '还有/v': 646, '行政/n': 647, '精神文明/n': 648, '搞/v': 649, '相/d': 650, '买/v': 651, '亚洲/ns': 652, '户/q': 653, '减少/v': 654, '由于/p': 655, '水/n': 656, '下岗/vn': 657, '委员会/n]nt': 658, '基层/n': 659, '过去/t': 660, '第三/m': 661, '特色/n': 662, '伟大/a': 663, '观众/n': 664, '自/p': 665, '投资/v': 666, '地位/n': 667, '胡/nr': 668, '带来/v': 669, '时代/n': 670, '充分/ad': 671, '贸易/vn': 672, '标准/n': 673, '贡献/n': 674, '大力/d': 675, '带/v': 676, '６/m': 677, '影响/v': 678, '亩/q': 679, '案件/n': 680, '按/p': 681, '石油/n': 682, '参与/v': 683, '每年/r': 684, '法律/n': 685, '未/d': 686, '来到/v': 687, '电力/n': 688, '八/m': 689, '引起/v': 690, '业务/n': 691, '恩来/nr': 692, '和/p': 693, '学校/n': 694, '逐步/d': 695, '知识/n': 696, '孙/nr': 697, '队伍/n': 698, '斗争/vn': 699, '法国/ns': 700, '然而/c': 701, '腐败/an': 702, '话剧/n': 703, '认真/ad': 704, '其琛/nr': 705, '令/v': 706, '比赛/vn': 707, '’/w': 708, '间/f': 709, '举办/v': 710, '或者/c': 711, '出来/v': 712, '能够/v': 713, '拿/v': 714, '党中央/nt': 715, '之一/r': 716, '具体/a': 717, '保证/v': 718, '整个/b': 719, '出席/v': 720, '设备/n': 721, '报告/n': 722, '约/d': 723, '分/q': 724, '一定/d': 725, '犯罪/vn': 726, '当前/t': 727, '调整/v': 728, '速度/n': 729, '１００/m': 730, '首都/n': 731, '大型/b': 732, '办法/n': 733, '监督/vn': 734, '京剧/n': 735, '就业/v': 736, '路/n': 737, '领导/vn': 738, '效益/n': 739, '巨大/a': 740, '呢/y': 741, '书/n': 742, '证券/n': 743, '改善/v': 744, '变化/vn': 745, '演出/v': 746, '结果/n': 747, '公里/q': 748, '均/d': 749, '随着/p': 750, '友好/a': 751, '节日/n': 752, '联合/v': 753, '老人/n': 754, '汽车/n': 755, '统一/vn': 756, '自治区/n': 757, '商业/n': 758, '联合国/nt': 759, '文明/n': 760, '罗/nr': 761, '表明/v': 762, '发/v': 763, '建/v': 764, '委员会/n': 765, '需求/n': 766, '段/q': 767, '价值/n': 768, '公安/n': 769, '得/v': 770, '稳定/a': 771, '部分/n': 772, '竞争/vn': 773, '委员/n': 774, '起/f': 775, '近年来/l': 776, '超过/v': 777, '认识/v': 778, '同时/n': 779, '领导人/n': 780, '一直/d': 781, '变/v': 782, '则/d': 783, '因素/n': 784, '林/nr': 785, '全市/n': 786, '方法/n': 787, '菜篮子/n': 788, '下午/t': 789, '各国/r': 790, '黄/nr': 791, '经/p': 792, '之后/f': 793, '外交/n': 794, '内部/f': 795, '有限公司/n]nt': 796, '意见/n': 797, '土地/n': 798, '未来/t': 799, '投入/v': 800, '而是/c': 801, '时候/n': 802, '反映/v': 803, '从而/c': 804, '经营/v': 805, '因为/c': 806, '直接/ad': 807, '状况/n': 808, '适应/v': 809, '见/v': 810, '依法/d': 811, '请/v': 812, '执行/v': 813, '国民经济/n': 814, '台/q': 815, '谈/v': 816, '负责/v': 817, '一切/r': 818, '所有/b': 819, '干/v': 820, '小平/nr': 821, '才/c': 822, '合作/v': 823, '虽然/c': 824, '努力/an': 825, '使用/v': 826, '一月/t': 827, '当/v': 828, '节目/n': 829, '德国/ns': 830, '系列/q': 831, '７/m': 832, '谁/r': 833, '手/n': 834, '集体/n': 835, '教师/n': 836, '一起/s': 837, '通过/v': 838, '军队/n': 839, '５０/m': 840, '像/v': 841, '选手/n': 842, '程度/n': 843, '感到/v': 844, '持续/vd': 845, '风险/n': 846, '人类/n': 847, '观念/n': 848, '强/a': 849, '基金/n': 850, '村/n': 851, '建成/v': 852, '马/nr': 853, '１９９５年/t': 854, '讲话/n': 855, '恢复/v': 856, '文明/a': 857, '多种/m': 858, '规定/v': 859, '越来越/d': 860, '一定/b': 861, '维护/v': 862, '著名/a': 863, '支/q': 864, '何/nr': 865, '少/a': 866, '多/ad': 867, '现实/n': 868, '访问/v': 869, '８/m': 870, '选举/v': 871, '粮食/n': 872, '座/q': 873, '人士/n': 874, '事件/n': 875, '官兵/n': 876, '没/d': 877, '高度/d': 878, '表现/v': 879, '面积/n': 880, '[中共中央/nt': 881, '比较/d': 882, '改变/v': 883, '体现/v': 884, '反对/v': 885, '全省/n': 886, '范围/n': 887, '医院/n': 888, '非常/d': 889, '深入/v': 890, '本/r': 891, '半/m': 892, '话/n': 893, '长期/d': 894, '多少/r': 895, '基地/n': 896, '批准/v': 897, '大/d': 898, '[美国/ns': 899, '宏观/n': 900, '培养/v': 901, '朋友/n': 902, '面临/v': 903, '关心/v': 904, '尤其/d': 905, '拥有/v': 906, '——/w': 907, '至/v': 908, '份/q': 909, '最高/a': 910, '学/v': 911, '先生/n': 912, '今后/t': 913, '交流/vn': 914, '确定/v': 915, '首先/d': 916, '做好/v': 917, '韩国/ns': 918, '成员/n': 919, '３０/m': 920, '面对/v': 921, '区域/n': 922, '股市/n': 923, '保护/v': 924, '[上海/ns': 925, '作为/p': 926, '千/m': 927, '基本/ad': 928, '近日/t': 929, '专业/n': 930, '实际/a': 931, '科学/n': 932, '人物/n': 933, '重新/d': 934, '意识/n': 935, '贷款/n': 936, '铁路/n': 937, '下降/v': 938, '有人/r': 939, '[人民/n': 940, '给予/v': 941, '甚至/d': 942, '创作/vn': 943, '市民/n': 944, '趋势/n': 945, '天气/n': 946, '汇率/n': 947, '协会/n]nt': 948, '协议/n': 949, '则/c': 950, '以色列/ns': 951, '股票/n': 952, '外资/n': 953, '只有/c': 954, '完全/ad': 955, '全面/a': 956, '部/q': 957, '太/d': 958, '道路/n': 959, '组成/v': 960, '旅游/vn': 961, '问/v': 962, '底/f': 963, '知道/v': 964, '整体/n': 965, '手段/n': 966, '上午/t': 967, '克林顿/nr': 968, '如今/t': 969, '正是/v': 970, '完善/v': 971, '区/n': 972, '先/d': 973, '妇女/n': 974, '只要/c': 975, '政协/j]nt': 976, '生命/n': 977, '泰国/ns': 978, '处理/v': 979, '局面/n': 980, '实践/vn': 981, '外长/n': 982, '外国/n': 983, '出版/v': 984, '形象/n': 985, '目的/n': 986, '同胞/n': 987, '谈判/vn': 988, '健康/a': 989, '准备/v': 990, '特点/n': 991, '科研/n': 992, '电子/n': 993, '根本/a': 994, '１日/t': 995, '代表/v': 996, '正式/ad': 997, '那些/r': 998, '机会/n': 999, '稳定/v': 1000, '大学/n]nt': 1001, '东南亚/ns': 1002, '１１月/t': 1003, '支持/vn': 1004, '左右/m': 1005, '为主/v': 1006, '股份制/n': 1007, '天津/ns': 1008, '实践/v': 1009, '宣传/vn': 1010, '深化/v': 1011, '合理/a': 1012, '真正/d': 1013, '南非/ns': 1014, '调查/vn': 1015, '旅客/n': 1016, '再次/d': 1017, '上年/t': 1018, '学者/n': 1019, '小组/n': 1020, '是否/v': 1021, '因为/p': 1022, '石/nr': 1023}\n",
      "x shape: (995136, 8)\n",
      "y shape: (995136,)\n",
      "train batch count: 1555\n",
      "test batch count: 389\n"
     ]
    }
   ],
   "source": [
    "# prepare data\n",
    "importlib.reload(dataset)\n",
    "\n",
    "data = dataset.Dataset()\n",
    "if os.path.exists(\"data_n_gram.pkl\"):\n",
    "    data.load(\"data_n_gram.pkl\")\n",
    "else:\n",
    "    data.gen(vocab_size=vocab_size, n=n, batch_size=batch_size, filename='ChineseCorpus199801.txt', encoding=\"gbk\", type=\"n_gram\")\n",
    "    data.save(\"data_n_gram.pkl\")"
   ]
  },
  {
   "cell_type": "code",
   "execution_count": 16,
   "metadata": {},
   "outputs": [],
   "source": [
    "# load model\n",
    "if not os.path.exists(\"checkpoint\"):\n",
    "    os.mkdir(\"checkpoint\")\n",
    "\n",
    "pth_list = os.listdir(\"checkpoint\")\n",
    "latest_pth = None\n",
    "cumulative_epoch = None\n",
    "for pth in pth_list:\n",
    "    if pth.endswith(\".pth\") and pth.startswith(\"FNN\"):\n",
    "        if latest_pth is None:\n",
    "            latest_pth = pth\n",
    "        else:\n",
    "            id = int(pth.split(\"-\")[-1].split(\".\")[0])\n",
    "            latest_id = int(latest_pth.split(\"-\")[-1].split(\".\")[0])\n",
    "            if id > latest_id:\n",
    "                latest_pth = pth\n",
    "                cumulative_epoch = id\n",
    "\n",
    "if latest_pth is not None:\n",
    "    print(\"load model from checkpoint/\" + latest_pth)\n",
    "    model.load_state_dict(torch.load(\"checkpoint/\" + latest_pth))\n",
    "    model.eval()"
   ]
  },
  {
   "cell_type": "code",
   "execution_count": 17,
   "metadata": {},
   "outputs": [],
   "source": [
    "# prepare trainer\n",
    "if cumulative_epoch is None:\n",
    "    cumulative_epoch = 0\n",
    "x_record = []\n",
    "y_record = []\n",
    "\n",
    "trainer = NN.Trainer(learning_rate, model)"
   ]
  },
  {
   "cell_type": "code",
   "execution_count": 119,
   "metadata": {},
   "outputs": [
    {
     "name": "stdout",
     "output_type": "stream",
     "text": [
      "Epoch 51\n",
      "-------------------------------\n",
      "loss: 3.462092  [51200/796108]\n",
      "loss: 3.551478  [102400/796108]\n",
      "loss: 3.282057  [153600/796108]\n",
      "loss: 3.194469  [204800/796108]\n",
      "loss: 3.358365  [256000/796108]\n",
      "loss: 3.218843  [307200/796108]\n",
      "loss: 3.440169  [358400/796108]\n",
      "loss: 3.476769  [409600/796108]\n",
      "loss: 3.630261  [460800/796108]\n",
      "loss: 3.511471  [512000/796108]\n",
      "loss: 3.485394  [563200/796108]\n",
      "loss: 3.475013  [614400/796108]\n",
      "loss: 3.235067  [665600/796108]\n",
      "loss: 3.211059  [716800/796108]\n",
      "loss: 3.661387  [768000/796108]\n",
      "Test: \n",
      " Accuracy: 39.0%, Avg loss: 3.455042 \n",
      "\n",
      "Epoch 52\n",
      "-------------------------------\n",
      "loss: 3.438864  [51200/796108]\n",
      "loss: 3.624487  [102400/796108]\n",
      "loss: 3.426430  [153600/796108]\n",
      "loss: 3.471729  [204800/796108]\n",
      "loss: 3.479588  [256000/796108]\n",
      "loss: 3.276624  [307200/796108]\n",
      "loss: 3.393433  [358400/796108]\n",
      "loss: 3.428288  [409600/796108]\n",
      "loss: 3.678849  [460800/796108]\n",
      "loss: 3.416182  [512000/796108]\n",
      "loss: 3.261712  [563200/796108]\n",
      "loss: 3.381867  [614400/796108]\n",
      "loss: 3.427876  [665600/796108]\n",
      "loss: 3.568764  [716800/796108]\n",
      "loss: 3.567451  [768000/796108]\n",
      "Test: \n",
      " Accuracy: 39.0%, Avg loss: 3.453886 \n",
      "\n",
      "Epoch 53\n",
      "-------------------------------\n",
      "loss: 3.478143  [51200/796108]\n",
      "loss: 3.436934  [102400/796108]\n",
      "loss: 3.467925  [153600/796108]\n",
      "loss: 3.381536  [204800/796108]\n",
      "loss: 3.391835  [256000/796108]\n",
      "loss: 3.581418  [307200/796108]\n",
      "loss: 3.267242  [358400/796108]\n",
      "loss: 3.370671  [409600/796108]\n",
      "loss: 3.451893  [460800/796108]\n",
      "loss: 3.298019  [512000/796108]\n",
      "loss: 3.603845  [563200/796108]\n",
      "loss: 3.427317  [614400/796108]\n",
      "loss: 3.526587  [665600/796108]\n",
      "loss: 3.657315  [716800/796108]\n",
      "loss: 3.418670  [768000/796108]\n",
      "Test: \n",
      " Accuracy: 39.0%, Avg loss: 3.453794 \n",
      "\n",
      "Epoch 54\n",
      "-------------------------------\n",
      "loss: 3.374539  [51200/796108]\n",
      "loss: 3.410514  [102400/796108]\n",
      "loss: 3.230786  [153600/796108]\n",
      "loss: 3.353378  [204800/796108]\n",
      "loss: 3.440780  [256000/796108]\n",
      "loss: 3.379707  [307200/796108]\n",
      "loss: 3.312730  [358400/796108]\n",
      "loss: 3.277570  [409600/796108]\n",
      "loss: 3.495786  [460800/796108]\n",
      "loss: 3.413423  [512000/796108]\n",
      "loss: 3.512497  [563200/796108]\n",
      "loss: 3.426136  [614400/796108]\n",
      "loss: 3.271573  [665600/796108]\n",
      "loss: 3.476053  [716800/796108]\n",
      "loss: 3.659927  [768000/796108]\n",
      "Test: \n",
      " Accuracy: 39.1%, Avg loss: 3.450384 \n",
      "\n",
      "Epoch 55\n",
      "-------------------------------\n",
      "loss: 3.447926  [51200/796108]\n",
      "loss: 3.583344  [102400/796108]\n",
      "loss: 3.411959  [153600/796108]\n",
      "loss: 3.428642  [204800/796108]\n",
      "loss: 3.495038  [256000/796108]\n",
      "loss: 3.611912  [307200/796108]\n",
      "loss: 3.427303  [358400/796108]\n",
      "loss: 3.525597  [409600/796108]\n",
      "loss: 3.384036  [460800/796108]\n",
      "loss: 3.222759  [512000/796108]\n",
      "loss: 3.498813  [563200/796108]\n",
      "loss: 3.413523  [614400/796108]\n",
      "loss: 3.459832  [665600/796108]\n",
      "loss: 3.800142  [716800/796108]\n",
      "loss: 3.361158  [768000/796108]\n",
      "Test: \n",
      " Accuracy: 39.1%, Avg loss: 3.449516 \n",
      "\n",
      "Epoch 56\n",
      "-------------------------------\n",
      "loss: 3.365933  [51200/796108]\n",
      "loss: 3.347325  [102400/796108]\n",
      "loss: 3.412743  [153600/796108]\n",
      "loss: 3.633214  [204800/796108]\n",
      "loss: 3.354057  [256000/796108]\n",
      "loss: 3.548256  [307200/796108]\n",
      "loss: 3.372656  [358400/796108]\n",
      "loss: 3.500550  [409600/796108]\n",
      "loss: 3.565704  [460800/796108]\n",
      "loss: 3.427092  [512000/796108]\n",
      "loss: 3.308317  [563200/796108]\n",
      "loss: 3.432203  [614400/796108]\n",
      "loss: 3.452429  [665600/796108]\n",
      "loss: 3.650692  [716800/796108]\n",
      "loss: 3.333918  [768000/796108]\n",
      "Test: \n",
      " Accuracy: 39.1%, Avg loss: 3.448752 \n",
      "\n",
      "Epoch 57\n",
      "-------------------------------\n",
      "loss: 3.610096  [51200/796108]\n",
      "loss: 3.518699  [102400/796108]\n",
      "loss: 3.596165  [153600/796108]\n",
      "loss: 3.433686  [204800/796108]\n",
      "loss: 3.627026  [256000/796108]\n",
      "loss: 3.666103  [307200/796108]\n",
      "loss: 3.547132  [358400/796108]\n",
      "loss: 3.279008  [409600/796108]\n",
      "loss: 3.423555  [460800/796108]\n",
      "loss: 3.460549  [512000/796108]\n",
      "loss: 3.466752  [563200/796108]\n",
      "loss: 3.443456  [614400/796108]\n",
      "loss: 3.436143  [665600/796108]\n",
      "loss: 3.687623  [716800/796108]\n",
      "loss: 3.274704  [768000/796108]\n",
      "Test: \n",
      " Accuracy: 39.0%, Avg loss: 3.447799 \n",
      "\n",
      "Epoch 58\n",
      "-------------------------------\n",
      "loss: 3.382366  [51200/796108]\n",
      "loss: 3.410133  [102400/796108]\n",
      "loss: 3.253268  [153600/796108]\n",
      "loss: 3.270704  [204800/796108]\n",
      "loss: 3.449066  [256000/796108]\n",
      "loss: 3.385761  [307200/796108]\n",
      "loss: 3.454587  [358400/796108]\n",
      "loss: 3.367373  [409600/796108]\n",
      "loss: 3.566038  [460800/796108]\n",
      "loss: 3.352455  [512000/796108]\n",
      "loss: 3.504703  [563200/796108]\n",
      "loss: 3.321669  [614400/796108]\n",
      "loss: 3.516102  [665600/796108]\n",
      "loss: 3.477642  [716800/796108]\n",
      "loss: 3.383584  [768000/796108]\n",
      "Test: \n",
      " Accuracy: 39.0%, Avg loss: 3.446519 \n",
      "\n",
      "Epoch 59\n",
      "-------------------------------\n",
      "loss: 3.393141  [51200/796108]\n",
      "loss: 3.416120  [102400/796108]\n",
      "loss: 3.332942  [153600/796108]\n",
      "loss: 3.389356  [204800/796108]\n",
      "loss: 3.390010  [256000/796108]\n",
      "loss: 3.582763  [307200/796108]\n",
      "loss: 3.508464  [358400/796108]\n",
      "loss: 3.469969  [409600/796108]\n",
      "loss: 3.331894  [460800/796108]\n",
      "loss: 3.346041  [512000/796108]\n",
      "loss: 3.548899  [563200/796108]\n",
      "loss: 3.605240  [614400/796108]\n",
      "loss: 3.621620  [665600/796108]\n",
      "loss: 3.413305  [716800/796108]\n",
      "loss: 3.279068  [768000/796108]\n",
      "Test: \n",
      " Accuracy: 39.1%, Avg loss: 3.444935 \n",
      "\n",
      "Epoch 60\n",
      "-------------------------------\n",
      "loss: 3.587623  [51200/796108]\n",
      "loss: 3.685529  [102400/796108]\n",
      "loss: 3.410279  [153600/796108]\n",
      "loss: 3.131654  [204800/796108]\n",
      "loss: 3.350414  [256000/796108]\n",
      "loss: 3.253578  [307200/796108]\n",
      "loss: 3.261033  [358400/796108]\n",
      "loss: 3.453875  [409600/796108]\n",
      "loss: 3.309544  [460800/796108]\n",
      "loss: 3.315889  [512000/796108]\n",
      "loss: 3.313152  [563200/796108]\n",
      "loss: 3.473041  [614400/796108]\n",
      "loss: 3.429521  [665600/796108]\n",
      "loss: 3.383606  [716800/796108]\n",
      "loss: 3.202883  [768000/796108]\n",
      "Test: \n",
      " Accuracy: 39.0%, Avg loss: 3.446573 \n",
      "\n",
      "Done!\n"
     ]
    }
   ],
   "source": [
    "# train\n",
    "epochs = 10\n",
    "learning_rate = 1e-3\n",
    "for t in range(epochs):\n",
    "    print(f\"Epoch {cumulative_epoch+1}\\n-------------------------------\")\n",
    "    trainer.train(data.train_dataloader, learning_rate=learning_rate)\n",
    "    correct, test_loss = trainer.test(data.test_dataloader)\n",
    "\n",
    "    cumulative_epoch+=1\n",
    "    x_record.append(cumulative_epoch)\n",
    "    y_record.append((correct, test_loss, learning_rate))\n",
    "    \n",
    "    if cumulative_epoch % 5 == 0:\n",
    "        if not os.path.exists('checkpoint'):\n",
    "            os.makedirs('checkpoint')\n",
    "        torch.save(trainer.model.state_dict(), './checkpoint/FNN-'+str(cumulative_epoch)+'.pth')\n",
    "print(\"Done!\")"
   ]
  },
  {
   "cell_type": "code",
   "execution_count": 120,
   "metadata": {},
   "outputs": [
    {
     "data": {
      "image/png": "[encoded data removed]",
      "text/plain": [
       "<Figure size 640x480 with 1 Axes>"
      ]
     },
     "metadata": {},
     "output_type": "display_data"
    },
    {
     "data": {
      "image/png": "[encoded data removed]",
      "text/plain": [
       "<Figure size 640x480 with 1 Axes>"
      ]
     },
     "metadata": {},
     "output_type": "display_data"
    },
    {
     "data": {
      "image/png": "[encoded data removed]",
      "text/plain": [
       "<Figure size 640x480 with 1 Axes>"
      ]
     },
     "metadata": {},
     "output_type": "display_data"
    }
   ],
   "source": [
    "# plot the accuracy and loss curves\n",
    "plt.plot(x_record, np.array(y_record)[:,0])\n",
    "plt.title(\"Accuracy\")\n",
    "plt.show()\n",
    "plt.plot(x_record, np.array(y_record)[:,1])\n",
    "plt.title(\"Loss\")\n",
    "plt.show()\n",
    "plt.plot(x_record, np.array(y_record)[:,2])\n",
    "plt.title(\"Learning Rate\")\n",
    "plt.show()"
   ]
  },
  {
   "cell_type": "code",
   "execution_count": 144,
   "metadata": {},
   "outputs": [
    {
     "name": "stdout",
     "output_type": "stream",
     "text": [
      "(1024, 16)\n",
      "５/m\n",
      "５/m 1.0\n",
      "７/m 0.9449776\n",
      "５０/m 0.9285177\n",
      "３/m 0.90999705\n",
      "十/m 0.9077617\n",
      "１０/m 0.9035196\n",
      "２/m 0.87599367\n",
      "１００/m 0.87301916\n",
      "半/m 0.8710296\n",
      "３０/m 0.8700875\n"
     ]
    }
   ],
   "source": [
    "def get_lookup_table(model):\n",
    "    lookup_table = model.embedding.weight.data\n",
    "    lookup_table = lookup_table.cpu().numpy()\n",
    "    return lookup_table\n",
    "\n",
    "lookup_table = get_lookup_table(trainer.model)\n",
    "print(lookup_table.shape)\n",
    "\n",
    "def top_10_similar(lookup_table, word_idx):\n",
    "    word_vec = lookup_table[word_idx]\n",
    "    similarity = np.dot(lookup_table, word_vec)/np.linalg.norm(lookup_table, axis=1)/np.linalg.norm(word_vec)\n",
    "    a = np.argsort(-similarity)\n",
    "    for i in a[:10]:\n",
    "        name_list = [key for key,value in data.top_words.items() if value==i]\n",
    "        if len(name_list) > 0:\n",
    "            print(name_list[0], similarity[i])\n",
    "        else:\n",
    "            print(\"<UNK>\", similarity[i])\n",
    "\n",
    "word = random.choice(list(data.top_words.keys()))\n",
    "word = \"５/m\"\n",
    "print(word)\n",
    "top_10_similar(get_lookup_table(trainer.model), data.top_words[word])\n"
   ]
  }
 ],
 "metadata": {
  "kernelspec": {
   "display_name": "AI2THOR",
   "language": "python",
   "name": "python3"
  },
  "language_info": {
   "codemirror_mode": {
    "name": "ipython",
    "version": 3
   },
   "file_extension": ".py",
   "mimetype": "text/x-python",
   "name": "python",
   "nbconvert_exporter": "python",
   "pygments_lexer": "ipython3",
   "version": "3.8.16"
  },
  "orig_nbformat": 4
 },
 "nbformat": 4,
 "nbformat_minor": 2
}
